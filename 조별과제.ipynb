{
 "cells": [
  {
   "cell_type": "code",
   "execution_count": null,
   "metadata": {},
   "outputs": [],
   "source": [
    "!pip install selenium"
   ]
  },
  {
   "cell_type": "code",
   "execution_count": 115,
   "metadata": {},
   "outputs": [
    {
     "name": "stdout",
     "output_type": "stream",
     "text": [
      "김치찌개\n",
      "내 주변 김치찌개 맛집랭킹 첫번째 목록 1. 목우촌 미소와돈, 맛집 점수는 28점\n",
      "서울특별시 강동구 성내동 552-11\n",
      "자차로 이동시 예상소요시간 9분, 거리 1.8km, 예상 통행료 약 0원 | 택시비 약 4,300원 | 주유비 약 257원입니다. 안전운전하세요\n",
      "대중교통 이용시 예상소요시간 16분, 도보8분환승없음요금 900원2.0km. 교통카드를 챙겨주세요.\n",
      " 도보 이용시 최단거리는 27분, 1.7km, 편안한 길은 29분, 1.8km\n",
      "자전거 도로 이용시 예상 소요시간8분, 거리 1.8km, 고도 최저 14m, 최고 17m50kcal \n"
     ]
    }
   ],
   "source": [
    "from selenium import webdriver\n",
    "from selenium.webdriver.common.by import By\n",
    "from selenium.webdriver.common.keys import Keys\n",
    "import time\n",
    "keyword = input('')\n",
    "driver = webdriver.Chrome('chromedriver.exe')\n",
    "\n",
    "driver.implicitly_wait(10)\n",
    "driver.get(f'https://www.diningcode.com/isearch.php?query={keyword}') # 김치찌개 맛집 검색 이동\n",
    "\n",
    "location = driver.find_element(By.XPATH,'//*[@id=\"contents\"]/div[1]/div/img')\n",
    "\n",
    "action_loc = webdriver.ActionChains(driver)\n",
    "action_loc.move_to_element(location)\n",
    "action_loc.click() # 내 위치 업데이트\n",
    "action_loc.perform() #action함수 실행\n",
    "\n",
    "shop = driver.find_element(By.XPATH,'//*[@id=\"div_normal_nearby\"]/ul/li[1]/a/span[1]')\n",
    "score = driver.find_element(By.XPATH,'//*[@id=\"div_normal_nearby\"]/ul/li[1]/p[3]')\n",
    "voice1 = f'내 주변 {keyword} 맛집랭킹 첫번째 목록 {shop.text}, 맛집 점수는 {score.text}'\n",
    "print(voice1)\n",
    "\n",
    "destination = driver.find_element(By.XPATH,'//*[@id=\"div_normal_nearby\"]/ul/li[1]/a/span[3]')\n",
    "dt = destination.text\n",
    "print(dt)\n",
    "\n",
    "\n",
    "driver.get('https://map.kakao.com/') # 맛집 길찾기 시작\n",
    "time.sleep(3)\n",
    "direction = driver.find_element(By.XPATH,'//*[@id=\"search.tab2\"]/a')\n",
    "\n",
    "box = driver.find_element(By.XPATH,'/html/body/div[10]/div/div/img')\n",
    "action_box = webdriver.ActionChains(driver)\n",
    "action_box.move_to_element(box)\n",
    "action_box.click()\n",
    "action_box.perform()\n",
    "\n",
    "direction.click()\n",
    "startbox = driver.find_element(By.XPATH,'//*[@id=\"info.route.searchBox.list\"]/div[1]/div[2]/input')\n",
    "startpoint = driver.find_element(By.XPATH,'//*[@id=\"info.route.waypointSuggest.input0\"]')\n",
    "ds = '서울 강동구 양재대로 1377 (성내동)' # 대신it학원 주소\n",
    "\n",
    "action_start = webdriver.ActionChains(driver)\n",
    "action_start.move_to_element(startpoint)\n",
    "action_start.click()\n",
    "action_start.perform()\n",
    "\n",
    "startpoint.send_keys(ds, Keys.ENTER)\n",
    "time.sleep(3)\n",
    "\n",
    "des = driver.find_element(By.XPATH,'//*[@id=\"info.route.waypointSuggest.input1\"]')\n",
    "# des.click()\n",
    "des.send_keys(dt, Keys.ENTER)\n",
    "time.sleep(3)\n",
    "car = driver.find_element(By.XPATH, '//*[@id=\"cartab\"]')\n",
    "car.click()\n",
    "\n",
    "\n",
    "car_time = driver.find_element(By.XPATH, '//*[@id=\"info.flagsearch\"]/div[6]/ul/li/div[1]/div/div[1]/p/span[1]')\n",
    "\n",
    "car_distance = driver.find_element(By.XPATH, '//*[@id=\"info.flagsearch\"]/div[6]/ul/li/div[1]/div/div[1]/p/span[2]')\n",
    "car_info = driver.find_element(By.XPATH, '//*[@id=\"info.flagsearch\"]/div[6]/ul/li/div[1]/div/div[1]/div')\n",
    "\n",
    "print(f'자차로 이동시 예상소요시간 {car_time.text}, 거리 {car_distance.text}, 예상 {car_info.text}입니다. 안전운전하세요')\n",
    "\n",
    "\n",
    "public_tr = driver.find_element(By.XPATH, '//*[@id=\"transittab\"]')\n",
    "public_tr.click()\n",
    "pub_time = driver.find_element(By.XPATH, '//*[@id=\"info.flagsearch\"]/div[5]/ul/li[1]/div[1]/span[1]')\n",
    "pub_info = driver.find_element(By.XPATH,'//*[@id=\"info.flagsearch\"]/div[5]/ul/li[1]/div[1]/span[2]')\n",
    "print(f'대중교통 이용시 예상소요시간 {pub_time.text}, {pub_info.text}. 교통카드를 챙겨주세요.')\n",
    "work = driver.find_element(By.XPATH, '//*[@id=\"walktab\"]')\n",
    "work.click()\n",
    "work_fast_time = driver.find_element(By.XPATH,'//*[@id=\"info.walkRoute\"]/div[1]/ul/li[2]/div[1]/div/p/span[1]')\n",
    "work_fast_dis = driver.find_element(By.XPATH,'//*[@id=\"info.walkRoute\"]/div[1]/ul/li[2]/div[1]/div/p/span[2]')\n",
    "work_slow_time = driver.find_element(By.XPATH,'//*[@id=\"info.walkRoute\"]/div[1]/ul/li[3]/div[1]/div/p/span[1]')\n",
    "work_slow_dis = driver.find_element(By.XPATH,'//*[@id=\"info.walkRoute\"]/div[1]/ul/li[3]/div[1]/div/p/span[2]')\n",
    "print(f' 도보 이용시 최단거리는 {work_fast_time.text}, {work_fast_dis.text}, 편안한 길은 {work_slow_time.text}, {work_slow_dis.text}')\n",
    "bicycle = driver.find_element(By.XPATH, '//*[@id=\"biketab\"]')\n",
    "bicycle.click()\n",
    "bic_road_time = driver.find_element(By.XPATH,'//*[@id=\"info.bikeRoute\"]/div[1]/ul/li[1]/div[1]/div[1]/p/span[1]')\n",
    "bic_road_dis = driver.find_element(By.XPATH,'//*[@id=\"info.bikeRoute\"]/div[1]/ul/li[1]/div[1]/div[1]/p/span[2]')\n",
    "bic_roadinfo = driver.find_element(By.XPATH,'//*[@id=\"info.bikeRoute\"]/div[1]/ul/li[1]/div[1]/div[1]/div')\n",
    "print(f'자전거 도로 이용시 예상 소요시간{bic_road_time.text}, 거리 {bic_road_dis.text}, {bic_roadinfo.text} ')\n",
    "\n"
   ]
  },
  {
   "cell_type": "code",
   "execution_count": 59,
   "metadata": {},
   "outputs": [
    {
     "name": "stdout",
     "output_type": "stream",
     "text": [
      "서울특별시 강동구 성내동 552-11\n"
     ]
    }
   ],
   "source": []
  }
 ],
 "metadata": {
  "kernelspec": {
   "display_name": "Python 3",
   "language": "python",
   "name": "python3"
  },
  "language_info": {
   "codemirror_mode": {
    "name": "ipython",
    "version": 3
   },
   "file_extension": ".py",
   "mimetype": "text/x-python",
   "name": "python",
   "nbconvert_exporter": "python",
   "pygments_lexer": "ipython3",
   "version": "3.8.5"
  }
 },
 "nbformat": 4,
 "nbformat_minor": 4
}
